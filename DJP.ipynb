{
 "cells": [
  {
   "cell_type": "code",
   "execution_count": 3,
   "metadata": {},
   "outputs": [],
   "source": [
    "from keras.models import Sequential\n",
    "from keras.layers import Dense\n",
    "import tensorflow as ts\n",
    "import pandas as pd\n",
    "import numpy as np\n",
    "import sklearn.model_selection as sk"
   ]
  },
  {
   "cell_type": "markdown",
   "metadata": {},
   "source": [
    "The Titanic set contains information about the passengers of the Titanic. We can use Pandas to download the Excel file directly into a Pandas DataFrame."
   ]
  },
  {
   "cell_type": "code",
   "execution_count": 4,
   "metadata": {},
   "outputs": [],
   "source": [
    "df = pd.read_excel('http://biostat.mc.vanderbilt.edu/wiki/pub/Main/DataSets/titanic3.xls')"
   ]
  },
  {
   "cell_type": "markdown",
   "metadata": {},
   "source": [
    "We'll build a model to test the hypothesis that the \"title\" of a passenger on the Titanic can help predict whether they survived or not. The titles is not available as a column in the dataset, but it can be extracted from the name of the passenger. The title is information-rich and might have as much predictive power than sex, age, or even cabin combined."
   ]
  },
  {
   "cell_type": "code",
   "execution_count": 5,
   "metadata": {},
   "outputs": [],
   "source": [
    "# pandas and regex magic to extract the title of the passenger into a 'title' column\n",
    "df['title'] = df['name'].str.extract('.*, (.*)\\.', expand=False)\n",
    "x_all = pd.get_dummies(df['title'])\n",
    "y_all = np.array([ [y==1, y==0] for y in df.survived]).astype(int)"
   ]
  },
  {
   "cell_type": "markdown",
   "metadata": {},
   "source": [
    "Before building a model, split the data into a training set and a test set."
   ]
  },
  {
   "cell_type": "code",
   "execution_count": 6,
   "metadata": {},
   "outputs": [],
   "source": [
    "X_train, X_test, y_train, y_test = sk.train_test_split(x_all, \n",
    "                                                       y_all, \n",
    "                                                       test_size=0.33, \n",
    "                                                       random_state=42)"
   ]
  },
  {
   "cell_type": "markdown",
   "metadata": {},
   "source": [
    "A neural network is a good way to explore the predictive power of the 'title' field. Here, we use the high level Keras API to build and compile a simple network."
   ]
  },
  {
   "cell_type": "code",
   "execution_count": 14,
   "metadata": {},
   "outputs": [],
   "source": [
    "model = Sequential()\n",
    "model.add(Dense(units=32, input_dim = len(x_all.columns)))\n",
    "model.add(Dense(units=32, input_dim = len(x_all.columns)))\n",
    "model.add(Dense(units=2, activation='softmax'))\n",
    "model.compile(loss='categorical_crossentropy',\n",
    "             optimizer='sgd',\n",
    "             metrics=['accuracy'])"
   ]
  },
  {
   "cell_type": "markdown",
   "metadata": {},
   "source": [
    "Now, we can use the training data to train the model"
   ]
  },
  {
   "cell_type": "code",
   "execution_count": 9,
   "metadata": {},
   "outputs": [
    {
     "name": "stdout",
     "output_type": "stream",
     "text": [
      "Epoch 1/5\n",
      "877/877 [==============================] - 0s 158us/step - loss: 0.6031 - acc: 0.7149\n",
      "Epoch 2/5\n",
      "877/877 [==============================] - 0s 37us/step - loss: 0.5626 - acc: 0.7172\n",
      "Epoch 3/5\n",
      "877/877 [==============================] - 0s 39us/step - loss: 0.5435 - acc: 0.7172\n",
      "Epoch 4/5\n",
      "877/877 [==============================] - 0s 33us/step - loss: 0.5323 - acc: 0.7172\n",
      "Epoch 5/5\n",
      "877/877 [==============================] - 0s 39us/step - loss: 0.5250 - acc: 0.7389\n"
     ]
    },
    {
     "data": {
      "text/plain": [
       "<keras.callbacks.History at 0x11e137710>"
      ]
     },
     "execution_count": 9,
     "metadata": {},
     "output_type": "execute_result"
    }
   ],
   "source": [
    "model.fit(X_train.as_matrix(), y_train, epochs=5)"
   ]
  },
  {
   "cell_type": "markdown",
   "metadata": {},
   "source": [
    "The model can be used to predict the survival status of passengers in the test data."
   ]
  },
  {
   "cell_type": "code",
   "execution_count": 16,
   "metadata": {},
   "outputs": [],
   "source": [
    "predictions = model.predict(X_test.as_matrix())"
   ]
  },
  {
   "cell_type": "markdown",
   "metadata": {},
   "source": [
    "Finally, we can calculate a simple score for our model. "
   ]
  },
  {
   "cell_type": "code",
   "execution_count": 17,
   "metadata": {},
   "outputs": [],
   "source": [
    "# assign the softmax probabilities to a boolean e.g. true or false\n",
    "predictions_bool = predictions[:,0] > 0.5\n",
    "# do the same for the response\n",
    "y_test_bool = y_test[:,0] ==1"
   ]
  },
  {
   "cell_type": "markdown",
   "metadata": {},
   "source": [
    "A simple measure of accuracy ..."
   ]
  },
  {
   "cell_type": "code",
   "execution_count": 21,
   "metadata": {},
   "outputs": [],
   "source": [
    "accuracy = sum(predictions_bool == y_test_bool) / len(y_test_bool) "
   ]
  }
 ],
 "metadata": {
  "kernelspec": {
   "display_name": "Python 3",
   "language": "python",
   "name": "python3"
  },
  "language_info": {
   "codemirror_mode": {
    "name": "ipython",
    "version": 3
   },
   "file_extension": ".py",
   "mimetype": "text/x-python",
   "name": "python",
   "nbconvert_exporter": "python",
   "pygments_lexer": "ipython3",
   "version": "3.5.5"
  }
 },
 "nbformat": 4,
 "nbformat_minor": 2
}
