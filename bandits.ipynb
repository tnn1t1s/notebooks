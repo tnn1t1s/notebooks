{
 "cells": [
  {
   "cell_type": "markdown",
   "metadata": {},
   "source": [
    "## Reinforcement Learning, Sutton and Barro"
   ]
  },
  {
   "cell_type": "markdown",
   "metadata": {},
   "source": [
    "This notebook collects solutions for the exercises in the textbook"
   ]
  },
  {
   "cell_type": "markdown",
   "metadata": {},
   "source": [
    "### Exercise 2.2"
   ]
  },
  {
   "cell_type": "markdown",
   "metadata": {},
   "source": [
    "How does the softmax action selection using the Gibbs distribution fare on the 10-armed testbed?"
   ]
  },
  {
   "cell_type": "code",
   "execution_count": 144,
   "metadata": {
    "collapsed": true
   },
   "outputs": [],
   "source": [
    "import math\n",
    "import random\n",
    "import numpy as np\n",
    "import pandas as pd\n",
    "%matplotlib inline"
   ]
  },
  {
   "cell_type": "code",
   "execution_count": 187,
   "metadata": {
    "collapsed": true
   },
   "outputs": [],
   "source": [
    "class RandomVariable:\n",
    "    def __init__(self, mu, sigma):\n",
    "        self.mu = mu\n",
    "        self.sigma = sigma\n",
    "    def get(self):\n",
    "        return abs(random.gauss(self.mu,self.sigma))"
   ]
  },
  {
   "cell_type": "code",
   "execution_count": 188,
   "metadata": {
    "collapsed": true
   },
   "outputs": [],
   "source": [
    "class Estimate:\n",
    "    \"\"\"Estimate implements last seen estimate\n",
    "    \"\"\"\n",
    "    def __init__(self):\n",
    "        self.estimate = 0\n",
    "        self.k = 0\n",
    "        \n",
    "    def __gt__(self, e):\n",
    "        return self.estimate > e.estimate\n",
    "        \n",
    "    def update(self, value):\n",
    "        self.estimate = value\n",
    "        return self\n",
    "        \n",
    "    def get(self):\n",
    "        return self.estimate\n",
    "\n",
    "class OnlineAverage(Estimate):\n",
    "    \"\"\"OnlineAverage implements incremental mean \n",
    "    Q_(k+1) = Q_k + 1/(k+1)(r_(k+1) - Q_k)\n",
    "    \"\"\"      \n",
    "    def update(self, value):\n",
    "        Q_k = self.estimate\n",
    "        Q_k = Q_k + 1/(self.k+1) * (value - Q_k)\n",
    "        self.k = self.k + 1\n",
    "        self.estimate=Q_k\n",
    "        return self\n"
   ]
  },
  {
   "cell_type": "code",
   "execution_count": 234,
   "metadata": {},
   "outputs": [],
   "source": [
    "# selection algorithms\n",
    "\n",
    "# for the naive case, return v\n",
    "def s_a(v, t):\n",
    "    return v\n",
    "\n",
    "# for the n bolzmann with temperature, return exp(v/t)\n",
    "def s_bolzmann_a(v, t):\n",
    "    return math.exp(v/t)\n",
    "    \n",
    "def s_d(f, I,t):\n",
    "    s = 0\n",
    "    for i in range(0,len(I)):\n",
    "        s = s + f(I[i].estimate, t)\n",
    "    return s\n",
    "\n",
    "def softmax_action_probabilities(f, I,t):\n",
    "    P = [0] * len(I)\n",
    "    denominator = s_d(f, I,t)\n",
    "    for i in range(0,len(I)):\n",
    "        P[i] = f(I[i].estimate, t) / denominator\n",
    "    return P\n",
    "\n",
    "def softmax_selection(I,t):\n",
    "    P = softmax_action_probabilities(s_bolzmann_a, I, 1.0)\n",
    "    return np.random.choice(range(0,len(P)), 1, p=P)[0]\n",
    "\n",
    "def greedy_selection(I,epsilon):\n",
    "    if epsilon < random.random():\n",
    "        print('not random')\n",
    "        return I.index(max(I))\n",
    "    else:\n",
    "        print('random')\n",
    "        return random.randint(0,len(I) - 1)"
   ]
  },
  {
   "cell_type": "code",
   "execution_count": 235,
   "metadata": {
    "collapsed": true
   },
   "outputs": [],
   "source": [
    "def simulate(selection, RV, I, num_trials, epsilon):\n",
    "    rewards = []\n",
    "    for i in range(0, num_trials):\n",
    "        max_index = selection(I, epsilon)\n",
    "        new_reward = RV[max_index].get()\n",
    "        rewards.append((i,RV[max_index].mu,new_reward))\n",
    "        I[max_index].update(new_reward)\n",
    "    df = pd.DataFrame(rewards, columns=['iter','bandit_mean', 'reward'])\n",
    "    df = df.set_index('iter')\n",
    "    df['percent_optimal'] = (df['reward'] / max_reward) * 100.0\n",
    "    return df"
   ]
  },
  {
   "cell_type": "markdown",
   "metadata": {},
   "source": [
    "### Experiment Setup and Simulation"
   ]
  },
  {
   "cell_type": "code",
   "execution_count": 236,
   "metadata": {
    "collapsed": true
   },
   "outputs": [],
   "source": [
    "\n",
    "\n",
    "# 1. create N armed bandits and initialize with distributions\n",
    "max_reward = 9\n",
    "bandits = [(0,0.1),(1,0.1),(2,0.1),(3,0.1),(4,0.1),(5,0.1),(6,0.1),(7,0.1),(8,0.1),(9,0.1)]\n",
    "RV = [RandomVariable(x[0],x[1]) for x in bandits]\n",
    "\n",
    "# 2. setup experiment\n",
    "num_trials = 10\n",
    "\n",
    "# 3. set initial estimates\n",
    "initial_value = 100\n",
    "I = [OnlineAverage().update(initial_value) for i in range(0,len(bandits))]\n",
    "\n",
    "# 4. greedy method will explore alternative path with P = e\n",
    "epsilon = 0.0"
   ]
  },
  {
   "cell_type": "code",
   "execution_count": 242,
   "metadata": {},
   "outputs": [
    {
     "name": "stdout",
     "output_type": "stream",
     "text": [
      "random\n",
      "random\n",
      "random\n",
      "random\n",
      "random\n",
      "random\n",
      "random\n",
      "random\n",
      "random\n",
      "random\n"
     ]
    },
    {
     "data": {
      "text/plain": [
       "<matplotlib.axes._subplots.AxesSubplot at 0x116d85ac8>"
      ]
     },
     "execution_count": 242,
     "metadata": {},
     "output_type": "execute_result"
    },
    {
     "data": {
      "image/png": "[encoded data removed]",
      "text/plain": [
       "<matplotlib.figure.Figure at 0x116d95ef0>"
      ]
     },
     "metadata": {},
     "output_type": "display_data"
    }
   ],
   "source": [
    "df_greedy = simulate(greedy_selection, RV, I, num_trials, 1.0)\n",
    "df_greedy['percent_optimal'].plot()"
   ]
  },
  {
   "cell_type": "markdown",
   "metadata": {},
   "source": [
    "## Testing"
   ]
  },
  {
   "cell_type": "code",
   "execution_count": 117,
   "metadata": {},
   "outputs": [
    {
     "data": {
      "text/plain": [
       "2.0"
      ]
     },
     "execution_count": 117,
     "metadata": {},
     "output_type": "execute_result"
    }
   ],
   "source": [
    "# testing Estimate\n",
    "t_1 = [1,2,3,4,5]\n",
    "e = Estimate()\n",
    "for i in t_1:\n",
    "    e.update(i)\n",
    "assert(e.get() == 3.0)\n",
    "\n",
    "t_1 = [0,0,0,0,0]\n",
    "e = Estimate()\n",
    "for i in t_1:\n",
    "    e.update(i)\n",
    "assert(e.get() == 0.0)\n",
    "\n",
    "t_1 = [1,1,1,1,1]\n",
    "e = Estimate()\n",
    "for i in t_1:\n",
    "    e.update(i)\n",
    "assert(e.get() == 1.0)\n",
    "\n",
    "t_1 = [2,3,4,5]\n",
    "e = Estimate()\n",
    "e.get()\n",
    "e.update(2)\n",
    "e.get()"
   ]
  },
  {
   "cell_type": "code",
   "execution_count": null,
   "metadata": {
    "collapsed": true
   },
   "outputs": [],
   "source": []
  }
 ],
 "metadata": {
  "kernelspec": {
   "display_name": "Python 3",
   "language": "python",
   "name": "python3"
  },
  "language_info": {
   "codemirror_mode": {
    "name": "ipython",
    "version": 3
   },
   "file_extension": ".py",
   "mimetype": "text/x-python",
   "name": "python",
   "nbconvert_exporter": "python",
   "pygments_lexer": "ipython3",
   "version": "3.6.3"
  }
 },
 "nbformat": 4,
 "nbformat_minor": 2
}
