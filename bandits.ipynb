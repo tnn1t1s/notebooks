{
 "cells": [
  {
   "cell_type": "markdown",
   "metadata": {},
   "source": [
    "## Reinforcement Learning, Sutton and Barro"
   ]
  },
  {
   "cell_type": "markdown",
   "metadata": {},
   "source": [
    "This notebook collects solutions for the exercises in the textbook"
   ]
  },
  {
   "cell_type": "markdown",
   "metadata": {},
   "source": [
    "### Exercise 2.2"
   ]
  },
  {
   "cell_type": "markdown",
   "metadata": {},
   "source": [
    "How does the softmax action selection using the Gibbs distribution fare on the 10-armed testbed?"
   ]
  },
  {
   "cell_type": "code",
   "execution_count": 100,
   "metadata": {
    "collapsed": true
   },
   "outputs": [],
   "source": [
    "import random\n",
    "import pandas as pd\n",
    "%matplotlib inline"
   ]
  },
  {
   "cell_type": "code",
   "execution_count": 101,
   "metadata": {
    "collapsed": true
   },
   "outputs": [],
   "source": [
    "class RandomVariable:\n",
    "    def __init__(self, mu, sigma):\n",
    "        self.mu = mu\n",
    "        self.sigma = sigma\n",
    "    def get(self):\n",
    "        return abs(random.gauss(self.mu,self.sigma))"
   ]
  },
  {
   "cell_type": "code",
   "execution_count": 141,
   "metadata": {},
   "outputs": [],
   "source": [
    "class Estimate:\n",
    "    \"\"\"Estimate implements last seen estimate\n",
    "    \"\"\"\n",
    "    def __init__(self):\n",
    "        self.estimate = 0\n",
    "        self.k = 0\n",
    "        \n",
    "    def __gt__(self, e):\n",
    "        return self.estimate > e.estimate\n",
    "        \n",
    "    def update(self, value):\n",
    "        self.estimate = value\n",
    "        return self\n",
    "        \n",
    "    def get(self):\n",
    "        return self.estimate\n",
    "\n",
    "class OnlineAverage(Estimate):\n",
    "    \"\"\"OnlineAverage implements incremental mean \n",
    "    Q_(k+1) = Q_k + 1/(k+1)(r_(k+1) - Q_k)\n",
    "    \"\"\"      \n",
    "    def update(self, value):\n",
    "        Q_k = self.estimate\n",
    "        Q_k = Q_k + 1/(self.k+1) * (value - Q_k)\n",
    "        self.k = self.k + 1\n",
    "        self.estimate=Q_k\n",
    "        return self\n",
    "    \n",
    "class Softmax(Estimate):\n",
    "    \"\"\"Softmax uses Gibbs softmax\n",
    "    \"\"\"\n",
    "    def update(self, value):\n",
    "        self.estimate = value\n",
    "        return self.estimate\n"
   ]
  },
  {
   "cell_type": "code",
   "execution_count": null,
   "metadata": {
    "collapsed": true
   },
   "outputs": [],
   "source": [
    "def simulate(RV, I, num_trials, epsilon):\n",
    "    rewards = []\n",
    "    for i in range(0, num_trials):\n",
    "        if random.random() < epsilon:\n",
    "            max_index = random.randint(0,len(RV) - 1)\n",
    "        else:\n",
    "            max_index = I.index(max(I))\n",
    "        new_reward = RV[max_index].get()\n",
    "        rewards.append((i,RV[max_index].mu,new_reward))\n",
    "        I[max_index].update(new_reward)\n",
    "    return rewards"
   ]
  },
  {
   "cell_type": "code",
   "execution_count": 174,
   "metadata": {},
   "outputs": [],
   "source": [
    "# implementation of e-greedy N armed bandit\n",
    "\n",
    "# 1. create N armed bandits and initialize with distributions\n",
    "max_reward = 9\n",
    "bandits = [(0,0.1),(1,0.1),(2,0.1),(3,0.1),(4,0.1),(5,0.1),(6,0.1),(7,0.1),(8,0.1),(9,0.1)]\n",
    "RV = [RandomVariable(x[0],x[1]) for x in bandits]\n",
    "\n",
    "# 2. setup experiment\n",
    "num_trials = 10000\n",
    "\n",
    "# 3. set initial estimates\n",
    "initial_value = 100\n",
    "I = [OnlineAverage().update(initial_value) for i in range(0,len(bandits))]\n",
    "\n",
    "# 4. greedy method will explore alternative path with P = e\n",
    "epsilon = 0.0"
   ]
  },
  {
   "cell_type": "code",
   "execution_count": 175,
   "metadata": {},
   "outputs": [],
   "source": [
    "rewards = simulate(RV, I, num_trials, epsilon)"
   ]
  },
  {
   "cell_type": "code",
   "execution_count": 178,
   "metadata": {},
   "outputs": [
    {
     "data": {
      "text/plain": [
       "<matplotlib.axes._subplots.AxesSubplot at 0x11b4a6f60>"
      ]
     },
     "execution_count": 178,
     "metadata": {},
     "output_type": "execute_result"
    },
    {
     "data": {
      "image/png": "[encoded data removed]",
      "text/plain": [
       "<matplotlib.figure.Figure at 0x11bdeb390>"
      ]
     },
     "metadata": {},
     "output_type": "display_data"
    }
   ],
   "source": [
    "df = pd.DataFrame(rewards, columns=['iter','bandit_mean', 'reward'])\n",
    "df = df.set_index('iter')\n",
    "df['percent_optimal'] = (df['reward'] / max_reward) * 100.0\n",
    "df['percent_optimal'].plot()"
   ]
  },
  {
   "cell_type": "markdown",
   "metadata": {},
   "source": [
    "## Testing"
   ]
  },
  {
   "cell_type": "code",
   "execution_count": 117,
   "metadata": {},
   "outputs": [
    {
     "data": {
      "text/plain": [
       "2.0"
      ]
     },
     "execution_count": 117,
     "metadata": {},
     "output_type": "execute_result"
    }
   ],
   "source": [
    "# testing Estimate\n",
    "t_1 = [1,2,3,4,5]\n",
    "e = Estimate()\n",
    "for i in t_1:\n",
    "    e.update(i)\n",
    "assert(e.get() == 3.0)\n",
    "\n",
    "t_1 = [0,0,0,0,0]\n",
    "e = Estimate()\n",
    "for i in t_1:\n",
    "    e.update(i)\n",
    "assert(e.get() == 0.0)\n",
    "\n",
    "t_1 = [1,1,1,1,1]\n",
    "e = Estimate()\n",
    "for i in t_1:\n",
    "    e.update(i)\n",
    "assert(e.get() == 1.0)\n",
    "\n",
    "t_1 = [2,3,4,5]\n",
    "e = Estimate()\n",
    "e.get()\n",
    "e.update(2)\n",
    "e.get()"
   ]
  },
  {
   "cell_type": "code",
   "execution_count": null,
   "metadata": {
    "collapsed": true
   },
   "outputs": [],
   "source": []
  }
 ],
 "metadata": {
  "kernelspec": {
   "display_name": "Python 3",
   "language": "python",
   "name": "python3"
  },
  "language_info": {
   "codemirror_mode": {
    "name": "ipython",
    "version": 3
   },
   "file_extension": ".py",
   "mimetype": "text/x-python",
   "name": "python",
   "nbconvert_exporter": "python",
   "pygments_lexer": "ipython3",
   "version": "3.6.3"
  }
 },
 "nbformat": 4,
 "nbformat_minor": 2
}
